{
 "cells": [
  {
   "cell_type": "markdown",
   "id": "99323d06",
   "metadata": {},
   "source": [
    "\n",
    "\n",
    "\n",
    "\n",
    "\n",
    "\n",
    "\n",
    "\n",
    "\n",
    "\n",
    "11. What does the sentence import areallyourpetsnamederic do?\n",
    "12. If you had a bacon() feature in a spam module, what would you call it after importing spam?\n",
    "13. What can you do to save a programme from crashing if it encounters an error?\n",
    "14. What is the purpose of the try clause? What is the purpose of the except clause?"
   ]
  },
  {
   "cell_type": "markdown",
   "id": "4f8166bb",
   "metadata": {},
   "source": [
    "## 1. Why are functions advantageous to have in your programs?"
   ]
  },
  {
   "cell_type": "markdown",
   "id": "f559d823",
   "metadata": {},
   "source": [
    "Ans1. The use of function make a program more redable.By using funcion we can easily perform many funciton without taking so much time.\n",
    "with the help of functions, we can avoid rewriting the same logic again and again in program."
   ]
  },
  {
   "cell_type": "markdown",
   "id": "e66dcbb4",
   "metadata": {},
   "source": [
    "## 2. When does the code in a function run: when it&#39;s specified or when it&#39;s called?"
   ]
  },
  {
   "cell_type": "markdown",
   "id": "1d5a1725",
   "metadata": {},
   "source": [
    "Ans2. 'Call a function'.\n",
    "When a function is \"called\" the program \"leaves\" the current section of code and begins to execute the first line inside the function."
   ]
  },
  {
   "cell_type": "markdown",
   "id": "08a7ac90",
   "metadata": {},
   "source": [
    "## 3. What statement creates a function?"
   ]
  },
  {
   "cell_type": "markdown",
   "id": "cb131af3",
   "metadata": {},
   "source": [
    "Ans3. def 'create a function name'('give a parameter'):\n",
    "           retrun or print('operation what you want in body')"
   ]
  },
  {
   "cell_type": "code",
   "execution_count": 1,
   "id": "a598d6c1",
   "metadata": {},
   "outputs": [
    {
     "data": {
      "text/plain": [
       "40"
      ]
     },
     "execution_count": 1,
     "metadata": {},
     "output_type": "execute_result"
    }
   ],
   "source": [
    "#example:\n",
    "#create a funciton\n",
    "def example(a,b):\n",
    "    return a+b\n",
    "#call a function:\n",
    "example(10,30)"
   ]
  },
  {
   "cell_type": "markdown",
   "id": "27d88366",
   "metadata": {},
   "source": [
    "## 4. What is the difference between a function and a function call?"
   ]
  },
  {
   "cell_type": "markdown",
   "id": "871298e4",
   "metadata": {},
   "source": [
    "Ans.4. A function is a block of code which is written by someone.This code only runs when it is called. you can pass data, known as parameters into a function.\n",
    "A Function can return or print the data as a result."
   ]
  },
  {
   "cell_type": "markdown",
   "id": "35b38fe2",
   "metadata": {},
   "source": [
    "## 5. How many global scopes are there in a Python program? How many local scopes?"
   ]
  },
  {
   "cell_type": "markdown",
   "id": "d6876124",
   "metadata": {},
   "source": [
    "Ans.5. A variable created in the main body of the Python code is a global variable and belongs to the global scope.\n",
    "A variable created inside a function belongs to the local scope of that function, and can only be used inside that function."
   ]
  },
  {
   "cell_type": "markdown",
   "id": "962308be",
   "metadata": {},
   "source": [
    "## 6. What happens to variables in a local scope when the function call returns?"
   ]
  },
  {
   "cell_type": "code",
   "execution_count": 2,
   "id": "5b5bf845",
   "metadata": {},
   "outputs": [
    {
     "name": "stdout",
     "output_type": "stream",
     "text": [
      "300\n"
     ]
    }
   ],
   "source": [
    "#Ans.6.\n",
    "#A variable created inside a function is available inside that function:\n",
    "\n",
    "def myfunc():\n",
    "  x = 300\n",
    "  print(x)\n",
    "\n",
    "myfunc()"
   ]
  },
  {
   "cell_type": "markdown",
   "id": "86b91e83",
   "metadata": {},
   "source": [
    "in this local scope it return the value which is inside the body"
   ]
  },
  {
   "cell_type": "markdown",
   "id": "af57ff02",
   "metadata": {},
   "source": [
    "## 7. What is the concept of a return value? Is it possible to have a return value in an expression?"
   ]
  },
  {
   "cell_type": "markdown",
   "id": "6b8bf2dc",
   "metadata": {},
   "source": [
    "Ans.7. When you create a fucntion and whenver you use the print function it is always give you result in NoneType\n",
    "."
   ]
  },
  {
   "cell_type": "code",
   "execution_count": 7,
   "id": "a28c4c5a",
   "metadata": {},
   "outputs": [
    {
     "name": "stdout",
     "output_type": "stream",
     "text": [
      "27\n",
      "27\n"
     ]
    },
    {
     "data": {
      "text/plain": [
       "NoneType"
      ]
     },
     "execution_count": 7,
     "metadata": {},
     "output_type": "execute_result"
    }
   ],
   "source": [
    "#example:\n",
    "def check(m):\n",
    "    print(m**m)\n",
    "#call the function\n",
    "check(3)\n",
    "#type of fun:\n",
    "type(check(3))"
   ]
  },
  {
   "cell_type": "markdown",
   "id": "10ef10dd",
   "metadata": {},
   "source": [
    "But whenever you use retrun keyword then it is always give you result in the that format which is you given in the parameter."
   ]
  },
  {
   "cell_type": "code",
   "execution_count": 10,
   "id": "0891de4b",
   "metadata": {},
   "outputs": [
    {
     "name": "stdout",
     "output_type": "stream",
     "text": [
      "15\n"
     ]
    },
    {
     "data": {
      "text/plain": [
       "int"
      ]
     },
     "execution_count": 10,
     "metadata": {},
     "output_type": "execute_result"
    }
   ],
   "source": [
    "#example:\n",
    "def exm(a):\n",
    "    return a+10\n",
    "#call the function\n",
    "print(exm(5))\n",
    "#check the type:\n",
    "type(exm(5))"
   ]
  },
  {
   "cell_type": "markdown",
   "id": "9bd34a7f",
   "metadata": {},
   "source": [
    "## 8. If a function does not have a return statement, what is the return value of a call to that function?"
   ]
  },
  {
   "cell_type": "code",
   "execution_count": 16,
   "id": "3e14d622",
   "metadata": {},
   "outputs": [
    {
     "name": "stdout",
     "output_type": "stream",
     "text": [
      "None\n"
     ]
    }
   ],
   "source": [
    "# Ans.8.\n",
    "def ms(m):\n",
    "    m**m\n",
    "#call the fucntion\n",
    "print(ms(3))\n",
    "#it is not giving a output whenever we don't use return   "
   ]
  },
  {
   "cell_type": "markdown",
   "id": "c4022938",
   "metadata": {},
   "source": [
    "## 9. How do you make a function variable refer to the global variable?"
   ]
  },
  {
   "cell_type": "markdown",
   "id": "c820fea4",
   "metadata": {},
   "source": [
    "Ans. Normally, when you create a variable inside a function, that variable is local, and can only be used inside that function. To create a global variable inside a function, you can use the global keyword."
   ]
  },
  {
   "cell_type": "markdown",
   "id": "43c1d781",
   "metadata": {},
   "source": [
    "## 10. What is the data type of None?"
   ]
  },
  {
   "cell_type": "markdown",
   "id": "6ce2ca3e",
   "metadata": {},
   "source": []
  }
 ],
 "metadata": {
  "kernelspec": {
   "display_name": "Python 3 (ipykernel)",
   "language": "python",
   "name": "python3"
  },
  "language_info": {
   "codemirror_mode": {
    "name": "ipython",
    "version": 3
   },
   "file_extension": ".py",
   "mimetype": "text/x-python",
   "name": "python",
   "nbconvert_exporter": "python",
   "pygments_lexer": "ipython3",
   "version": "3.9.12"
  }
 },
 "nbformat": 4,
 "nbformat_minor": 5
}
