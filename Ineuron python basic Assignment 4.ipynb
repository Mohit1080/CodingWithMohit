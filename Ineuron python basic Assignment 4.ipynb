{
 "cells": [
  {
   "cell_type": "markdown",
   "id": "8eeafd91",
   "metadata": {},
   "source": [
    "## 1. What exactly is [ ]?"
   ]
  },
  {
   "cell_type": "markdown",
   "id": "04b850ae",
   "metadata": {},
   "source": [
    "Ans. [ ] this is refer to the list.\n",
    "if we want to check the type of [ ]\n",
    "so we can check:"
   ]
  },
  {
   "cell_type": "code",
   "execution_count": 1,
   "id": "ec7b26f1",
   "metadata": {},
   "outputs": [
    {
     "data": {
      "text/plain": [
       "list"
      ]
     },
     "execution_count": 1,
     "metadata": {},
     "output_type": "execute_result"
    }
   ],
   "source": [
    "#check the type\n",
    "type([])"
   ]
  },
  {
   "cell_type": "markdown",
   "id": "2dfe99c9",
   "metadata": {},
   "source": [
    "This is called blank list. you can also create a  list by using list() function."
   ]
  },
  {
   "cell_type": "markdown",
   "id": "4de1a61c",
   "metadata": {},
   "source": [
    "## 2. In a list of values stored in a variable called spam, how would you assign the value &#39;hello&#39; as the third value? (Assume [2, 4, 6, 8, 10] are in spam.) Let&#39;s pretend the spam includes the list [&#39;a&#39;, &#39;b&#39;, &#39;c&#39;, &#39;d&#39;] for the next three queries."
   ]
  },
  {
   "cell_type": "code",
   "execution_count": 31,
   "id": "8203a842",
   "metadata": {},
   "outputs": [
    {
     "data": {
      "text/plain": [
       "'d'"
      ]
     },
     "execution_count": 31,
     "metadata": {},
     "output_type": "execute_result"
    }
   ],
   "source": [
    "# solution by changing the value in index 3\n",
    "spam = [2, 4, 6, 8, 10]\n",
    "spam[2] = 'hello'\n",
    "spam\n",
    "     \n",
    "[2, 4, 'hello', 8, 10]\n"
   ]
  },
  {
   "cell_type": "markdown",
   "id": "98d64b6e",
   "metadata": {},
   "source": [
    "## 3. What is the value of spam[int(int(&#39;3&#39; * 2) / 11)]?"
   ]
  },
  {
   "cell_type": "code",
   "execution_count": 32,
   "id": "4068f670",
   "metadata": {},
   "outputs": [
    {
     "data": {
      "text/plain": [
       "'d'"
      ]
     },
     "execution_count": 32,
     "metadata": {},
     "output_type": "execute_result"
    }
   ],
   "source": [
    "spam = ['a', 'b','c','d']\n",
    "spam[int(int('3' * 2) / 11)] # spam[int(33/11)] = spam[3]\n",
    "     "
   ]
  },
  {
   "cell_type": "markdown",
   "id": "7807789c",
   "metadata": {},
   "source": [
    "# 4. What is the value of spam[-1]?\n"
   ]
  },
  {
   "cell_type": "code",
   "execution_count": 33,
   "id": "068653fd",
   "metadata": {},
   "outputs": [
    {
     "data": {
      "text/plain": [
       "'d'"
      ]
     },
     "execution_count": 33,
     "metadata": {},
     "output_type": "execute_result"
    }
   ],
   "source": [
    "spam[-1]\n"
   ]
  },
  {
   "cell_type": "markdown",
   "id": "4050099f",
   "metadata": {},
   "source": [
    "# 5. What is the value of spam[:2]?"
   ]
  },
  {
   "cell_type": "code",
   "execution_count": 45,
   "id": "ce5a6a44",
   "metadata": {},
   "outputs": [
    {
     "data": {
      "text/plain": [
       "['a', 'b']"
      ]
     },
     "execution_count": 45,
     "metadata": {},
     "output_type": "execute_result"
    }
   ],
   "source": [
    "spam[:2]"
   ]
  },
  {
   "cell_type": "markdown",
   "id": "f36034cb",
   "metadata": {},
   "source": [
    " # Let&#39;s pretend bacon has the list [3.14, &#39;cat,&#39; 11, &#39;cat,&#39; True] for the next three questions.\n",
    "# 6. What is the value of bacon.index(&#39;cat&#39;)?\n",
    "# 7. How does bacon.append(99) change the look of the list value in bacon?\n",
    "# 8. How does bacon.remove(&#39;cat&#39;) change the look of the list in bacon?"
   ]
  },
  {
   "cell_type": "code",
   "execution_count": 86,
   "id": "196012ee",
   "metadata": {},
   "outputs": [
    {
     "name": "stdout",
     "output_type": "stream",
     "text": [
      "index is : 1 and value cat\n",
      "index is : 3 and value cat\n"
     ]
    }
   ],
   "source": [
    "# Q.6\n",
    "bacon=[3.14,'cat',11,'cat',True]\n",
    "for i in range(len(bacon)):\n",
    "    if bacon[i]=='cat':\n",
    "        print('index is :',i,'and value',bacon[i])"
   ]
  },
  {
   "cell_type": "code",
   "execution_count": 87,
   "id": "e3df6cac",
   "metadata": {},
   "outputs": [
    {
     "name": "stdout",
     "output_type": "stream",
     "text": [
      "[3.14, 'cat', 11, 'cat', True, 99]\n"
     ]
    }
   ],
   "source": [
    "#Q.7\n",
    "bacon=[3.14,'cat',11,'cat',True]\n",
    "bacon.append(99)\n",
    "print(bacon)"
   ]
  },
  {
   "cell_type": "code",
   "execution_count": 108,
   "id": "a1516e0c",
   "metadata": {},
   "outputs": [
    {
     "name": "stdout",
     "output_type": "stream",
     "text": [
      "[3.14, 11, True]\n"
     ]
    }
   ],
   "source": [
    "#Q8\n",
    "bacon=[3.14,'cat',11,'cat',True]\n",
    "for i in bacon:\n",
    "    if i=='cat':\n",
    "        bacon.remove(i)\n",
    "        \n",
    "print(bacon)"
   ]
  },
  {
   "cell_type": "markdown",
   "id": "a48e8a8d",
   "metadata": {},
   "source": [
    " # 9. What are the list concatenation and list replication operators?"
   ]
  },
  {
   "cell_type": "code",
   "execution_count": 112,
   "id": "8f0e2349",
   "metadata": {},
   "outputs": [
    {
     "name": "stdout",
     "output_type": "stream",
     "text": [
      "[2, 56, 1, 5]\n",
      "[2, 56, 1, 5, 2, 56, 1, 5, 2, 56, 1, 5, 2, 56, 1, 5, 2, 56, 1, 5]\n"
     ]
    }
   ],
   "source": [
    "# list concatenation\n",
    "l=[2,56]\n",
    "l2=[1,5]\n",
    "li=(l+l2)\n",
    "print(li)\n",
    "\n",
    "\n",
    "#list replication\n",
    "print(li*5)"
   ]
  },
  {
   "cell_type": "markdown",
   "id": "b4c8f6cf",
   "metadata": {},
   "source": [
    "# 10. What is difference between the list methods append() and insert()?"
   ]
  },
  {
   "cell_type": "code",
   "execution_count": 120,
   "id": "3286af5a",
   "metadata": {},
   "outputs": [
    {
     "name": "stdout",
     "output_type": "stream",
     "text": [
      "after append new list is [1, 2, 3, 4]\n",
      "after insert new list is  [1, 2, 3, 4]\n"
     ]
    }
   ],
   "source": [
    "#ans. by using append() method you can add any value in the last of the lis\n",
    "#by using insert() method you can add any value in the list by giving index.\n",
    "#example\n",
    "l=[1,2,3]\n",
    "l.append(4)\n",
    "print('after append new list is',l)\n",
    "\n",
    "#insert()\n",
    "l=[1,3,4]\n",
    "l.insert(1,2)\n",
    "print('after insert new list is ',l)"
   ]
  },
  {
   "cell_type": "markdown",
   "id": "2be533f4",
   "metadata": {},
   "source": [
    "# 11. What are the two methods for removing items from a list?\n"
   ]
  },
  {
   "cell_type": "code",
   "execution_count": 130,
   "id": "a49affbe",
   "metadata": {},
   "outputs": [
    {
     "name": "stdout",
     "output_type": "stream",
     "text": [
      "no arguments are given [1, 2, 3]\n",
      "when you give the arugment [1, 2]\n",
      "Remove the element by their name  [1, 5, 6, 6]\n"
     ]
    }
   ],
   "source": [
    "# First method is pop()\n",
    "  #'''pop can remove the last item if you not given any aruguments and if you give arugment then it will remove the item from the index'''\n",
    "#example:\n",
    "li=[1,2,3,4]\n",
    "li.pop() #remove the last element of the list\n",
    "print('no arguments are given',li)\n",
    "\n",
    "li.pop(2)#remove the value form idnex 2\n",
    "print('when you give the arugment',li)\n",
    "    # second method is remove()\n",
    "    \n",
    "#remove function    \n",
    "li=[1,5,6,'mohit',6]\n",
    "li.remove('mohit')#it can reomve the elements by using their name\n",
    "print('Remove the element by their name ',li)"
   ]
  },
  {
   "cell_type": "markdown",
   "id": "841395b5",
   "metadata": {},
   "source": [
    "# 12. Describe how list values and string values are identical."
   ]
  },
  {
   "cell_type": "code",
   "execution_count": 139,
   "id": "76175162",
   "metadata": {},
   "outputs": [
    {
     "name": "stdout",
     "output_type": "stream",
     "text": [
      "index 0 of the list : 1\n",
      "index 0 of the string : a\n",
      "min element of the list : 1\n",
      "max element of the list : 4\n",
      "min element of string  a\n",
      "max element of string : d\n",
      "lenght of list is : 4\n",
      "length of string is : 4\n"
     ]
    }
   ],
   "source": [
    "lis=[1,2,3,4] #list\n",
    "strin='abcd'  #string\n",
    "#1.elements access by their index number\n",
    "print('index 0 of the list :',lis[0])\n",
    "print('index 0 of the string :',strin[0])\n",
    "\n",
    "#2 min and max fucntion\n",
    "print('min element of the list :',min(lis))\n",
    "print('max element of the list :',max(lis))\n",
    "print('min element of string ',min(strin))\n",
    "print('max element of string :',max(strin))\n",
    "\n",
    "#3 len\n",
    "print('lenght of list is :',len(lis))\n",
    "print('length of string is :',len(strin))"
   ]
  },
  {
   "cell_type": "code",
   "execution_count": null,
   "id": "7f17cd7e",
   "metadata": {},
   "outputs": [],
   "source": []
  },
  {
   "cell_type": "markdown",
   "id": "e3cdb1fa",
   "metadata": {},
   "source": [
    "# 13. What&#39;s the difference between tuples and lists?"
   ]
  },
  {
   "cell_type": "markdown",
   "id": "632d9654",
   "metadata": {},
   "source": [
    "Ans. List is a mutable but tuples are imputalbe. you can't change the tuples value but you can change the list vlaues.\n",
    "you can define the list by using square brackets [] or list().\n",
    "you can define the tuples by using tuple() and ('any value',).\n",
    "\n"
   ]
  },
  {
   "cell_type": "code",
   "execution_count": 14,
   "id": "ddc32af6",
   "metadata": {},
   "outputs": [
    {
     "name": "stdout",
     "output_type": "stream",
     "text": [
      "[5, 23, 4]\n"
     ]
    }
   ],
   "source": [
    "#list example\n",
    "x=[1,23,4]\n",
    "x[0]=5\n",
    "print(x)"
   ]
  },
  {
   "cell_type": "code",
   "execution_count": 15,
   "id": "594360e3",
   "metadata": {},
   "outputs": [
    {
     "ename": "TypeError",
     "evalue": "'tuple' object does not support item assignment",
     "output_type": "error",
     "traceback": [
      "\u001b[1;31m---------------------------------------------------------------------------\u001b[0m",
      "\u001b[1;31mTypeError\u001b[0m                                 Traceback (most recent call last)",
      "Input \u001b[1;32mIn [15]\u001b[0m, in \u001b[0;36m<cell line: 3>\u001b[1;34m()\u001b[0m\n\u001b[0;32m      1\u001b[0m \u001b[38;5;66;03m#tuple exmaple\u001b[39;00m\n\u001b[0;32m      2\u001b[0m x\u001b[38;5;241m=\u001b[39m(\u001b[38;5;241m2\u001b[39m,\u001b[38;5;124m'\u001b[39m\u001b[38;5;124m34\u001b[39m\u001b[38;5;124m'\u001b[39m,\u001b[38;5;241m5\u001b[39m,\u001b[38;5;28;01mTrue\u001b[39;00m)\n\u001b[1;32m----> 3\u001b[0m x[\u001b[38;5;241m3\u001b[39m]\u001b[38;5;241m=\u001b[39m\u001b[38;5;28;01mFalse\u001b[39;00m\n\u001b[0;32m      4\u001b[0m \u001b[38;5;28mprint\u001b[39m(x)\n",
      "\u001b[1;31mTypeError\u001b[0m: 'tuple' object does not support item assignment"
     ]
    }
   ],
   "source": [
    "#tuple exmaple\n",
    "x=(2,'34',5,True)\n",
    "x[3]=False\n",
    "print(x)"
   ]
  },
  {
   "cell_type": "markdown",
   "id": "5e82a73f",
   "metadata": {},
   "source": [
    "# 14. How do you type a tuple value that only contains the integer 42?"
   ]
  },
  {
   "cell_type": "code",
   "execution_count": 150,
   "id": "5e2fd628",
   "metadata": {},
   "outputs": [
    {
     "name": "stdout",
     "output_type": "stream",
     "text": [
      "()3,5,6,7\n",
      "3,5,6,7\n"
     ]
    }
   ],
   "source": [
    "x=input(tuple())\n",
    "print(x)"
   ]
  },
  {
   "cell_type": "markdown",
   "id": "c952aef8",
   "metadata": {},
   "source": [
    "# 15. How do you get a list value&#39;s tuple form? How do you get a tuple value&#39;s list form?"
   ]
  },
  {
   "cell_type": "code",
   "execution_count": 142,
   "id": "e8ca7685",
   "metadata": {},
   "outputs": [
    {
     "name": "stdout",
     "output_type": "stream",
     "text": [
      "this is tuple : (2, 56, 'mohit')\n",
      "this is list : [1, 45, 3, 'mohit']\n"
     ]
    }
   ],
   "source": [
    "#list\n",
    "li=[3,3.2,(2,56,'mohit'),True]\n",
    "#tuple\n",
    "tup=(1,2,4,[1,45,3,\"mohit\"])\n",
    "#get tuple from the li\n",
    "for i in li:\n",
    "    if type(i)==tuple:\n",
    "        print('this is tuple :',i)\n",
    "#get list form the tup\n",
    "for i in tup:\n",
    "    if type(i)==list:\n",
    "        print('this is list :',i)"
   ]
  },
  {
   "cell_type": "markdown",
   "id": "9ddac94b",
   "metadata": {},
   "source": [
    "# 16. Variables that &quot;contain&quot; list values are not necessarily lists themselves. Instead, what do they contain?"
   ]
  },
  {
   "cell_type": "markdown",
   "id": "b1bd0e2e",
   "metadata": {},
   "source": [
    "a varibale contain the data\n",
    "A varialbe is a container where you can store some data.\n"
   ]
  },
  {
   "cell_type": "markdown",
   "id": "e6ecb6a0",
   "metadata": {},
   "source": [
    " # 17. How do you distinguish between copy.copy() and copy.deepcopy()?"
   ]
  },
  {
   "cell_type": "code",
   "execution_count": 152,
   "id": "a112ba69",
   "metadata": {},
   "outputs": [],
   "source": [
    "#Ans.The copy.copy() function will do a shallow copy of a list,\n",
    "#while the copy.deepcopy() function will do a deep copy of a list.\n",
    "#That is, only copy.deepcopy() will duplicate any lists inside the list.\n"
   ]
  },
  {
   "cell_type": "code",
   "execution_count": null,
   "id": "93c0c175",
   "metadata": {},
   "outputs": [],
   "source": []
  }
 ],
 "metadata": {
  "kernelspec": {
   "display_name": "Python 3 (ipykernel)",
   "language": "python",
   "name": "python3"
  },
  "language_info": {
   "codemirror_mode": {
    "name": "ipython",
    "version": 3
   },
   "file_extension": ".py",
   "mimetype": "text/x-python",
   "name": "python",
   "nbconvert_exporter": "python",
   "pygments_lexer": "ipython3",
   "version": "3.9.12"
  }
 },
 "nbformat": 4,
 "nbformat_minor": 5
}
